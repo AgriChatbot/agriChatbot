{
 "cells": [
  {
   "cell_type": "code",
   "execution_count": 1,
   "metadata": {},
   "outputs": [],
   "source": [
    "import pandas as pd \n",
    "from gensim import models\n",
    "from nltk.corpus import stopwords \n",
    "import numpy as np\n",
    "from nltk.probability import FreqDist, MLEProbDist\n",
    "import scipy\n",
    "from numpy import array\n",
    "from scipy.linalg import svd\n",
    "\n",
    "stop_words = set(stopwords.words('english')) \n",
    "\n",
    "words = pd.DataFrame()\n",
    "\n",
    "for i in range(1,36):\n",
    "    tempo = pd.read_csv('11_%d.csv'%(i))\n",
    "    words = pd.concat([tempo,words])"
   ]
  },
  {
   "cell_type": "code",
   "execution_count": null,
   "metadata": {},
   "outputs": [],
   "source": [
    "final = []\n",
    "for i,w in enumerate(query):\n",
    "    if query[i] != kccans[i]:\n",
    "        if type(query[i]) == str:\n",
    "            query[i] = query[i].replace('?','')\n",
    "            query[i] = query[i].replace('(','')\n",
    "            query[i] = query[i].replace(')','')\n",
    "\n",
    "    if type(query[i]) != float:\n",
    "        if type(kccans[i]) != float:\n",
    "            row = [query[i].lower().strip(),kccans[i].lower().strip(),district[i].lower().strip(),state[i].lower().strip()]\n",
    "            if row[0].isalpha() or len(row[0])>5:\n",
    "                final.append(row)\n",
    "\n",
    "words = pd.DataFrame(final)\n",
    "\n",
    "main = []\n",
    "for w in list(words[0]):\n",
    "    main.append(w.split(' '))\n",
    "\n",
    "new_words = []\n",
    "all_words = []\n",
    "for w,i in enumerate(main):\n",
    "    temp = []\n",
    "    for j in i:\n",
    "        if j not in stop_words:\n",
    "            temp.append(j)\n",
    "            all_words.append(j)\n",
    "    \n",
    "    new_words.append(temp)\n"
   ]
  },
  {
   "cell_type": "code",
   "execution_count": null,
   "metadata": {},
   "outputs": [],
   "source": []
  }
 ],
 "metadata": {
  "kernelspec": {
   "display_name": "Python 2",
   "language": "python",
   "name": "python2"
  },
  "language_info": {
   "codemirror_mode": {
    "name": "ipython",
    "version": 2
   },
   "file_extension": ".py",
   "mimetype": "text/x-python",
   "name": "python",
   "nbconvert_exporter": "python",
   "pygments_lexer": "ipython2",
   "version": "2.7.14"
  }
 },
 "nbformat": 4,
 "nbformat_minor": 2
}
