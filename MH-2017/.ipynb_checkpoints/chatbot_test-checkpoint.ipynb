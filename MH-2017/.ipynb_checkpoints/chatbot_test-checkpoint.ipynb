{
 "cells": [
  {
   "cell_type": "code",
   "execution_count": 56,
   "metadata": {},
   "outputs": [
    {
     "ename": "ValueError",
     "evalue": "invalid literal for int() with base 10: '-f'",
     "output_type": "error",
     "traceback": [
      "\u001b[0;31m---------------------------------------------------------------------------\u001b[0m",
      "\u001b[0;31mValueError\u001b[0m                                Traceback (most recent call last)",
      "\u001b[0;32m<ipython-input-56-428e67891d69>\u001b[0m in \u001b[0;36m<module>\u001b[0;34m()\u001b[0m\n\u001b[1;32m      5\u001b[0m \u001b[0;32mimport\u001b[0m \u001b[0msys\u001b[0m\u001b[0;34m\u001b[0m\u001b[0m\n\u001b[1;32m      6\u001b[0m \u001b[0;34m\u001b[0m\u001b[0m\n\u001b[0;32m----> 7\u001b[0;31m \u001b[0mdimen\u001b[0m \u001b[0;34m=\u001b[0m \u001b[0mint\u001b[0m\u001b[0;34m(\u001b[0m\u001b[0msys\u001b[0m\u001b[0;34m.\u001b[0m\u001b[0margv\u001b[0m\u001b[0;34m[\u001b[0m\u001b[0;36m1\u001b[0m\u001b[0;34m]\u001b[0m\u001b[0;34m)\u001b[0m\u001b[0;34m\u001b[0m\u001b[0m\n\u001b[0m\u001b[1;32m      8\u001b[0m \u001b[0mk\u001b[0m \u001b[0;34m=\u001b[0m \u001b[0mint\u001b[0m\u001b[0;34m(\u001b[0m\u001b[0msys\u001b[0m\u001b[0;34m.\u001b[0m\u001b[0margv\u001b[0m\u001b[0;34m[\u001b[0m\u001b[0;36m2\u001b[0m\u001b[0;34m]\u001b[0m\u001b[0;34m)\u001b[0m\u001b[0;34m\u001b[0m\u001b[0m\n\u001b[1;32m      9\u001b[0m \u001b[0ma\u001b[0m \u001b[0;34m=\u001b[0m \u001b[0mfloat\u001b[0m\u001b[0;34m(\u001b[0m\u001b[0msys\u001b[0m\u001b[0;34m.\u001b[0m\u001b[0margv\u001b[0m\u001b[0;34m[\u001b[0m\u001b[0;36m3\u001b[0m\u001b[0;34m]\u001b[0m\u001b[0;34m)\u001b[0m\u001b[0;34m\u001b[0m\u001b[0m\n",
      "\u001b[0;31mValueError\u001b[0m: invalid literal for int() with base 10: '-f'"
     ]
    }
   ],
   "source": [
    "import pandas as pd\n",
    "import string\n",
    "import word2vec_m as wv\n",
    "import weather_api\n",
    "import sys\n",
    "\n",
    "dimen = int(sys.argv[1])\n",
    "k = int(sys.argv[2])\n",
    "a = float(sys.argv[3])\n",
    "pca_text = str(sys.argv[4])\n"
   ]
  },
  {
   "cell_type": "code",
   "execution_count": 28,
   "metadata": {},
   "outputs": [
    {
     "name": "stdout",
     "output_type": "stream",
     "text": [
      "Hi!, I am AgriBot\n",
      "I am here to help you out with agriculture queries.\n",
      "\n",
      "May I know your name?\n",
      "paefn\n",
      "\n",
      "So paefn, How can I help you?\n",
      "\n",
      "\n",
      "Sure, which district are you from?\n",
      "avfafvafdvavafv\n",
      "\n",
      "And which state?\n",
      "f\n",
      "\n",
      "Give me a second\n"
     ]
    }
   ],
   "source": [
    "#Chatbot\n",
    "print '\\nHi!, I am AgriBot'\n",
    "print 'I am here to help you out with agriculture queries.\\n'\n",
    "print 'May I know your name?'\n",
    "\n",
    "name = raw_input('')\n",
    "name = str(name)\n",
    "\n",
    "name = name.split(' ')[0]\n",
    "\n",
    "print '\\nSo %s, How can I help you?'%(name)\n",
    "\n",
    "query = raw_input('')\n",
    "\n",
    "print '\\nSure, which district are you from?'\n",
    "district = raw_input('')\n",
    "\n",
    "print '\\nAnd which state?'\n",
    "state = raw_input('')\n",
    "\n",
    "print '\\nGive me a second\\n\\n'"
   ]
  },
  {
   "cell_type": "code",
   "execution_count": 51,
   "metadata": {},
   "outputs": [
    {
     "name": "stdout",
     "output_type": "stream",
     "text": [
      "Top-5\n",
      "\n",
      "\n",
      "Question: farmer wants to knows information about weather forecasting\n",
      "Answer: ['chance of rainfall next five days in your district']\n",
      "\n",
      "\n",
      "Question: farmers asked about supplier of fish prones\n",
      "Answer: ['matsya beej (fish seeds supplier)\\r\\naddress: opposite mukund steel, tilak road wadia park, matsyendranath mastye prashikshan kendra, ahmedangar, maharashtra 414001\\r\\nphone: 088886 50918']\n",
      "\n",
      "\n",
      "Question: farmer wants to know information about weather of district\n",
      "Answer: ['recommended for according meteorology department no chance of rainfall for next 10 days in your district and weather may be cloudy.']\n",
      "\n",
      "\n",
      "Question: farmers asked about subsidy for goat farming\n",
      "Answer: ['there is 1 lakh 60 thousand rs subsidy for goat farming']\n",
      "\n",
      "\n",
      "Question: farmer wants to know information about weather in district\n",
      "Answer: ['according to metrology department of india there is chance of light  to no rainfall for next 10 days from today for your  district.']\n",
      "\n",
      "\n"
     ]
    }
   ],
   "source": [
    "#### Answer #####\n",
    "query = query.lower()\n",
    "input_list = [district,state,query]\n",
    "\n",
    "weather_api.daily(district+','+state)\n",
    "\n",
    "if 'weather' in query:\n",
    "    weat = weather_api.daily(district+','+state)\n",
    "    print '%s\\n'%(weat)\n",
    "    print 'Would you like to the weather forecast for the coming week ?\\n'\n",
    "    week = raw_input('').lower()\n",
    "    if week == 'yes':\n",
    "        weat = weather_api.weekly(district+','+state)\n",
    "        print weat\n",
    "    \n",
    "    print '\\nThank You for chatting'\n",
    "    print '\\nFor further information, contact KCC'\n",
    "else:\n",
    "    u, v, t, new_maharashtra, maharashtra = wv.pre('all_files.csv')\n",
    "    ind = wv.test_query(u, v, t, input_list,dimen,k,a,pca=pca_text)\n",
    "\n",
    "    wv.print_ans(ind, maharashtra, k)\n",
    "    print '\\nThank You for chatting'\n",
    "    print '\\nFor further information, contact KCC'"
   ]
  },
  {
   "cell_type": "code",
   "execution_count": 55,
   "metadata": {},
   "outputs": [
    {
     "data": {
      "text/html": [
       "<div>\n",
       "<style scoped>\n",
       "    .dataframe tbody tr th:only-of-type {\n",
       "        vertical-align: middle;\n",
       "    }\n",
       "\n",
       "    .dataframe tbody tr th {\n",
       "        vertical-align: top;\n",
       "    }\n",
       "\n",
       "    .dataframe thead th {\n",
       "        text-align: right;\n",
       "    }\n",
       "</style>\n",
       "<table border=\"1\" class=\"dataframe\">\n",
       "  <thead>\n",
       "    <tr style=\"text-align: right;\">\n",
       "      <th></th>\n",
       "      <th>Date</th>\n",
       "      <th>Condition</th>\n",
       "      <th>High Temperature</th>\n",
       "      <th>Low Temperature</th>\n",
       "    </tr>\n",
       "  </thead>\n",
       "  <tbody>\n",
       "    <tr>\n",
       "      <th>0</th>\n",
       "      <td>24 Oct 2018</td>\n",
       "      <td>Sunny</td>\n",
       "      <td>33</td>\n",
       "      <td>22</td>\n",
       "    </tr>\n",
       "    <tr>\n",
       "      <th>1</th>\n",
       "      <td>25 Oct 2018</td>\n",
       "      <td>Mostly Sunny</td>\n",
       "      <td>32</td>\n",
       "      <td>18</td>\n",
       "    </tr>\n",
       "    <tr>\n",
       "      <th>2</th>\n",
       "      <td>26 Oct 2018</td>\n",
       "      <td>Mostly Sunny</td>\n",
       "      <td>31</td>\n",
       "      <td>21</td>\n",
       "    </tr>\n",
       "    <tr>\n",
       "      <th>3</th>\n",
       "      <td>27 Oct 2018</td>\n",
       "      <td>Mostly Sunny</td>\n",
       "      <td>32</td>\n",
       "      <td>20</td>\n",
       "    </tr>\n",
       "    <tr>\n",
       "      <th>4</th>\n",
       "      <td>28 Oct 2018</td>\n",
       "      <td>Mostly Sunny</td>\n",
       "      <td>32</td>\n",
       "      <td>19</td>\n",
       "    </tr>\n",
       "    <tr>\n",
       "      <th>5</th>\n",
       "      <td>29 Oct 2018</td>\n",
       "      <td>Sunny</td>\n",
       "      <td>30</td>\n",
       "      <td>21</td>\n",
       "    </tr>\n",
       "    <tr>\n",
       "      <th>6</th>\n",
       "      <td>30 Oct 2018</td>\n",
       "      <td>Sunny</td>\n",
       "      <td>30</td>\n",
       "      <td>18</td>\n",
       "    </tr>\n",
       "  </tbody>\n",
       "</table>\n",
       "</div>"
      ],
      "text/plain": [
       "          Date     Condition High Temperature Low Temperature\n",
       "0  24 Oct 2018         Sunny               33              22\n",
       "1  25 Oct 2018  Mostly Sunny               32              18\n",
       "2  26 Oct 2018  Mostly Sunny               31              21\n",
       "3  27 Oct 2018  Mostly Sunny               32              20\n",
       "4  28 Oct 2018  Mostly Sunny               32              19\n",
       "5  29 Oct 2018         Sunny               30              21\n",
       "6  30 Oct 2018         Sunny               30              18"
      ]
     },
     "execution_count": 55,
     "metadata": {},
     "output_type": "execute_result"
    }
   ],
   "source": []
  },
  {
   "cell_type": "code",
   "execution_count": null,
   "metadata": {},
   "outputs": [],
   "source": []
  },
  {
   "cell_type": "code",
   "execution_count": null,
   "metadata": {},
   "outputs": [],
   "source": []
  }
 ],
 "metadata": {
  "kernelspec": {
   "display_name": "Python 2",
   "language": "python",
   "name": "python2"
  },
  "language_info": {
   "codemirror_mode": {
    "name": "ipython",
    "version": 2
   },
   "file_extension": ".py",
   "mimetype": "text/x-python",
   "name": "python",
   "nbconvert_exporter": "python",
   "pygments_lexer": "ipython2",
   "version": "2.7.14"
  }
 },
 "nbformat": 4,
 "nbformat_minor": 2
}
