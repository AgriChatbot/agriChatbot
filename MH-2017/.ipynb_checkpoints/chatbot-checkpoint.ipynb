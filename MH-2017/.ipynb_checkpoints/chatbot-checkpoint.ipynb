{
 "cells": [
  {
   "cell_type": "code",
   "execution_count": 42,
   "metadata": {},
   "outputs": [],
   "source": [
    "import pandas as pd\n",
    "import string\n",
    "import word2vec_model"
   ]
  },
  {
   "cell_type": "code",
   "execution_count": 47,
   "metadata": {},
   "outputs": [
    {
     "name": "stdout",
     "output_type": "stream",
     "text": [
      "Hi!, I am AgriBot\n",
      "I am here to help you out with agriculture queries.\n",
      "\n",
      "May I know your name?\n",
      "Mona\n",
      "\n",
      "So Mona, How can I help you?\n",
      "how to deal with attack of blight\n",
      "\n",
      "Sure, which district are you from?\n",
      "pune \n",
      "\n",
      "And which state?\n",
      "maharashtra\n",
      "\n",
      "Give me a second\n"
     ]
    }
   ],
   "source": [
    "#Chatbot\n",
    "print 'Hi!, I am AgriBot'\n",
    "print 'I am here to help you out with agriculture queries.\\n'\n",
    "print 'May I know your name?'\n",
    "\n",
    "name = raw_input('')\n",
    "name = str(name)\n",
    "\n",
    "name = name.split(' ')[0]\n",
    "\n",
    "print '\\nSo %s, How can I help you?'%(name)\n",
    "\n",
    "query = raw_input('')\n",
    "\n",
    "print '\\nSure, which district are you from?'\n",
    "district = raw_input('')\n",
    "\n",
    "print '\\nAnd which state?'\n",
    "state = raw_input('')\n",
    "\n",
    "print '\\nGive me a second'"
   ]
  },
  {
   "cell_type": "code",
   "execution_count": 48,
   "metadata": {},
   "outputs": [
    {
     "name": "stderr",
     "output_type": "stream",
     "text": [
      "WARNING:gensim.models.base_any2vec:consider setting layer size to a multiple of 4 for greater performance\n",
      "INFO:gensim.models.word2vec:collecting all words and their counts\n",
      "INFO:gensim.models.word2vec:PROGRESS: at sentence #0, processed 0 words, keeping 0 word types\n",
      "INFO:gensim.models.word2vec:PROGRESS: at sentence #10000, processed 51011 words, keeping 687 word types\n",
      "INFO:gensim.models.word2vec:PROGRESS: at sentence #20000, processed 102776 words, keeping 1040 word types\n",
      "INFO:gensim.models.word2vec:PROGRESS: at sentence #30000, processed 154595 words, keeping 1356 word types\n",
      "INFO:gensim.models.word2vec:PROGRESS: at sentence #40000, processed 205904 words, keeping 1535 word types\n",
      "INFO:gensim.models.word2vec:PROGRESS: at sentence #50000, processed 257456 words, keeping 1699 word types\n",
      "INFO:gensim.models.word2vec:PROGRESS: at sentence #60000, processed 308773 words, keeping 1872 word types\n",
      "INFO:gensim.models.word2vec:PROGRESS: at sentence #70000, processed 359973 words, keeping 2025 word types\n",
      "INFO:gensim.models.word2vec:PROGRESS: at sentence #80000, processed 412097 words, keeping 2293 word types\n",
      "INFO:gensim.models.word2vec:PROGRESS: at sentence #90000, processed 463242 words, keeping 2415 word types\n",
      "INFO:gensim.models.word2vec:PROGRESS: at sentence #100000, processed 514875 words, keeping 2599 word types\n",
      "INFO:gensim.models.word2vec:PROGRESS: at sentence #110000, processed 566635 words, keeping 2760 word types\n",
      "INFO:gensim.models.word2vec:PROGRESS: at sentence #120000, processed 617762 words, keeping 2911 word types\n",
      "INFO:gensim.models.word2vec:PROGRESS: at sentence #130000, processed 669028 words, keeping 3065 word types\n",
      "INFO:gensim.models.word2vec:PROGRESS: at sentence #140000, processed 720425 words, keeping 3315 word types\n",
      "INFO:gensim.models.word2vec:PROGRESS: at sentence #150000, processed 771673 words, keeping 3515 word types\n",
      "INFO:gensim.models.word2vec:PROGRESS: at sentence #160000, processed 823199 words, keeping 3775 word types\n",
      "INFO:gensim.models.word2vec:PROGRESS: at sentence #170000, processed 874308 words, keeping 3921 word types\n",
      "INFO:gensim.models.word2vec:PROGRESS: at sentence #180000, processed 925409 words, keeping 4063 word types\n",
      "INFO:gensim.models.word2vec:collected 4172 word types from a corpus of 968692 raw words and 188445 sentences\n",
      "INFO:gensim.models.word2vec:Loading a fresh vocabulary\n",
      "INFO:gensim.models.word2vec:effective_min_count=1 retains 4172 unique words (100% of original 4172, drops 0)\n",
      "INFO:gensim.models.word2vec:effective_min_count=1 leaves 968692 word corpus (100% of original 968692, drops 0)\n",
      "INFO:gensim.models.word2vec:deleting the raw counts dictionary of 4172 items\n",
      "INFO:gensim.models.word2vec:sample=0.001 downsamples 47 most-common words\n",
      "INFO:gensim.models.word2vec:downsampling leaves estimated 334630 word corpus (34.5% of prior 968692)\n",
      "INFO:gensim.models.base_any2vec:estimated required memory for 4172 words and 50 dimensions: 3754800 bytes\n",
      "INFO:gensim.models.word2vec:resetting layer weights\n",
      "INFO:gensim.models.base_any2vec:training model with 3 workers on 4172 vocabulary and 50 features, using sg=0 hs=0 sample=0.001 negative=5 window=5\n",
      "INFO:gensim.models.base_any2vec:worker thread finished; awaiting finish of 2 more threads\n",
      "INFO:gensim.models.base_any2vec:worker thread finished; awaiting finish of 1 more threads\n",
      "INFO:gensim.models.base_any2vec:worker thread finished; awaiting finish of 0 more threads\n",
      "INFO:gensim.models.base_any2vec:EPOCH - 1 : training on 968692 raw words (334304 effective words) took 0.8s, 421225 effective words/s\n",
      "INFO:gensim.models.base_any2vec:worker thread finished; awaiting finish of 2 more threads\n",
      "INFO:gensim.models.base_any2vec:worker thread finished; awaiting finish of 1 more threads\n",
      "INFO:gensim.models.base_any2vec:worker thread finished; awaiting finish of 0 more threads\n",
      "INFO:gensim.models.base_any2vec:EPOCH - 2 : training on 968692 raw words (334347 effective words) took 0.9s, 388617 effective words/s\n",
      "INFO:gensim.models.base_any2vec:worker thread finished; awaiting finish of 2 more threads\n",
      "INFO:gensim.models.base_any2vec:worker thread finished; awaiting finish of 1 more threads\n",
      "INFO:gensim.models.base_any2vec:worker thread finished; awaiting finish of 0 more threads\n",
      "INFO:gensim.models.base_any2vec:EPOCH - 3 : training on 968692 raw words (335210 effective words) took 0.8s, 420440 effective words/s\n",
      "INFO:gensim.models.base_any2vec:worker thread finished; awaiting finish of 2 more threads\n",
      "INFO:gensim.models.base_any2vec:worker thread finished; awaiting finish of 1 more threads\n",
      "INFO:gensim.models.base_any2vec:worker thread finished; awaiting finish of 0 more threads\n",
      "INFO:gensim.models.base_any2vec:EPOCH - 4 : training on 968692 raw words (334484 effective words) took 0.8s, 431066 effective words/s\n",
      "INFO:gensim.models.base_any2vec:worker thread finished; awaiting finish of 2 more threads\n",
      "INFO:gensim.models.base_any2vec:worker thread finished; awaiting finish of 1 more threads\n",
      "INFO:gensim.models.base_any2vec:worker thread finished; awaiting finish of 0 more threads\n",
      "INFO:gensim.models.base_any2vec:EPOCH - 5 : training on 968692 raw words (334418 effective words) took 0.8s, 426963 effective words/s\n",
      "INFO:gensim.models.base_any2vec:training on a 4843460 raw words (1672763 effective words) took 4.1s, 411992 effective words/s\n"
     ]
    },
    {
     "name": "stdout",
     "output_type": "stream",
     "text": [
      "Top-1\n",
      "\n",
      "\n",
      "Question: attack of blight\n",
      " Answer: spray m-45 30 gm in 15 liter water.\n",
      "\n",
      "\n"
     ]
    }
   ],
   "source": [
    "#### Answer #####\n",
    "input_list = [district,state,query]\n",
    "\n",
    "maharashtra = pd.DataFrame()\n",
    "\n",
    "for i in range(1,36):\n",
    "    tempo = pd.read_csv('11_%d.csv'%(i))\n",
    "    maharashtra = pd.concat([tempo,maharashtra])\n",
    "    \n",
    "word2vec_model.word2vec_QAmodel(input_list,maharashtra,50,1,0.001,pca='Yes')"
   ]
  },
  {
   "cell_type": "code",
   "execution_count": null,
   "metadata": {},
   "outputs": [],
   "source": []
  },
  {
   "cell_type": "code",
   "execution_count": null,
   "metadata": {},
   "outputs": [],
   "source": []
  }
 ],
 "metadata": {
  "kernelspec": {
   "display_name": "Python 2",
   "language": "python",
   "name": "python2"
  },
  "language_info": {
   "codemirror_mode": {
    "name": "ipython",
    "version": 2
   },
   "file_extension": ".py",
   "mimetype": "text/x-python",
   "name": "python",
   "nbconvert_exporter": "python",
   "pygments_lexer": "ipython2",
   "version": "2.7.14"
  }
 },
 "nbformat": 4,
 "nbformat_minor": 2
}
