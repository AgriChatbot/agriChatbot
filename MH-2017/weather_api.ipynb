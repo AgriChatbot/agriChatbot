{
 "cells": [
  {
   "cell_type": "code",
   "execution_count": 38,
   "metadata": {},
   "outputs": [],
   "source": [
    "from weather import Weather, Unit\n",
    "import pandas as pd"
   ]
  },
  {
   "cell_type": "code",
   "execution_count": 89,
   "metadata": {},
   "outputs": [],
   "source": [
    "def daily(location):   \n",
    "    weather = Weather(unit=Unit.CELSIUS)\n",
    "    location = weather.lookup_by_location(location)\n",
    "    forecasts = location.forecast\n",
    "    atmosphere = location.atmosphere\n",
    "    \n",
    "    text_forecast = 'Today, the weather is %s. The temperature varies from %d Cel to %d Cel. Humidity is %d'%(forecasts[0].text, int(forecasts[0].low), int(forecasts[0].high), int(atmosphere['humidity']))\n",
    "    \n",
    "    return str(text_forecast)"
   ]
  },
  {
   "cell_type": "code",
   "execution_count": 90,
   "metadata": {},
   "outputs": [],
   "source": [
    "def weekly(location):\n",
    "    \n",
    "    weather = Weather(unit=Unit.CELSIUS)\n",
    "\n",
    "    location = weather.lookup_by_location(location)\n",
    "    forecasts = location.forecast\n",
    "\n",
    "    date = []\n",
    "    text = []\n",
    "    high = []\n",
    "    low = []\n",
    "\n",
    "    for forecast in forecasts:\n",
    "        date.append(forecast.date)\n",
    "        text.append(forecast.text)\n",
    "        high.append(forecast.high)\n",
    "        low.append(forecast.low)\n",
    "\n",
    "    weather_table = pd.concat([pd.Series(date),pd.Series(text),pd.Series(high),pd.Series(low)],axis =1,ignore_index = True)\n",
    "\n",
    "    weather_table.columns = ['Date', 'Condition', 'High Temperature', 'Low Temperature']\n",
    "\n",
    "    return weather_table[:7]"
   ]
  }
 ],
 "metadata": {
  "kernelspec": {
   "display_name": "Python 2",
   "language": "python",
   "name": "python2"
  },
  "language_info": {
   "codemirror_mode": {
    "name": "ipython",
    "version": 2
   },
   "file_extension": ".py",
   "mimetype": "text/x-python",
   "name": "python",
   "nbconvert_exporter": "python",
   "pygments_lexer": "ipython2",
   "version": "2.7.14"
  }
 },
 "nbformat": 4,
 "nbformat_minor": 2
}
