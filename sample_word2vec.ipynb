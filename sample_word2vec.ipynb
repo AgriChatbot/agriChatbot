{
 "cells": [
  {
   "cell_type": "code",
   "execution_count": 48,
   "metadata": {},
   "outputs": [],
   "source": [
    "import pandas as pd \n",
    "from gensim import models\n",
    "from nltk.corpus import stopwords \n",
    "import numpy as np\n",
    "from nltk.probability import FreqDist, MLEProbDist\n",
    "import scipy\n",
    "\n",
    "stop_words = set(stopwords.words('english')) \n",
    "\n",
    "maharashtra = pd.DataFrame()\n",
    "for i in range(1,36):\n",
    "    tempo = pd.read_csv('11_%d.csv'%(i))\n",
    "    maharashtra = pd.concat([tempo,maharashtra])"
   ]
  },
  {
   "cell_type": "code",
   "execution_count": 49,
   "metadata": {},
   "outputs": [],
   "source": [
    "query = list(maharashtra['QueryText'])\n",
    "kccans = list(maharashtra['KCCAns'])\n",
    "district = list(maharashtra['DistrictName'])\n",
    "state = list(maharashtra['StateName'])\n",
    "\n",
    "final = []\n",
    "for i,w in enumerate(query):\n",
    "    if query[i] != kccans[i]:\n",
    "        if type(query[i]) == str:\n",
    "            query[i] = query[i].replace('?','')\n",
    "            query[i] = query[i].replace('(','')\n",
    "            query[i] = query[i].replace(')','')\n",
    "\n",
    "    if type(query[i]) != float:\n",
    "        if type(kccans[i]) != float:\n",
    "            row = [query[i].lower().strip(),kccans[i].lower().strip(),district[i].lower().strip(),state[i].lower().strip()]\n",
    "            if row[0].isalpha() or len(row[0])>5:\n",
    "                final.append(row)\n",
    "\n",
    "maharashtra = pd.DataFrame(final)\n",
    "\n",
    "main = []\n",
    "for w in list(maharashtra[0]):\n",
    "    main.append(w.split(' '))\n",
    "\n",
    "new_maharashtra = []\n",
    "all_words = []\n",
    "for w,i in enumerate(main):\n",
    "    temp = []\n",
    "    for j in i:\n",
    "        if j not in stop_words:\n",
    "            temp.append(j)\n",
    "            all_words.append(j)\n",
    "    \n",
    "    new_maharashtra.append([maharashtra[2][w],maharashtra[3][w]] + temp)\n",
    "\n",
    "t = FreqDist(all_words)\n",
    "\n",
    "model = models.Word2Vec(new_maharashtra, min_count = 1,size=50)"
   ]
  },
  {
   "cell_type": "code",
   "execution_count": 68,
   "metadata": {},
   "outputs": [],
   "source": [
    "u = FreqDist(district)\n",
    "v = FreqDist(state)"
   ]
  },
  {
   "cell_type": "code",
   "execution_count": 69,
   "metadata": {},
   "outputs": [
    {
     "name": "stderr",
     "output_type": "stream",
     "text": [
      "/Library/Frameworks/Python.framework/Versions/2.7/lib/python2.7/site-packages/ipykernel_launcher.py:14: DeprecationWarning: Call to deprecated `__getitem__` (Method will be removed in 4.0.0, use self.wv.__getitem__() instead).\n",
      "  \n"
     ]
    }
   ],
   "source": [
    "word2vec_value = []\n",
    "for i in new_maharashtra:\n",
    "    value = np.array([0.0 for k in range(50)])\n",
    "    count = len(i)\n",
    "    c = 0\n",
    "    for j in i:\n",
    "        c += 1\n",
    "        if c in [1]:\n",
    "            factor = 0.001/(0.001 + u[j]/u.N())\n",
    "        if c in [2]:\n",
    "            factor = 0.001/(0.001 + v[j]/v.N())\n",
    "        if c in [3,4,5]:\n",
    "            factor = 0.001/(0.001 + t[j]/t.N())\n",
    "        value += model[j]*factor\n",
    "    \n",
    "    value = value/count\n",
    "    word2vec_value.append(value)"
   ]
  },
  {
   "cell_type": "code",
   "execution_count": 70,
   "metadata": {},
   "outputs": [
    {
     "name": "stderr",
     "output_type": "stream",
     "text": [
      "/Library/Frameworks/Python.framework/Versions/2.7/lib/python2.7/site-packages/ipykernel_launcher.py:20: DeprecationWarning: Call to deprecated `__getitem__` (Method will be removed in 4.0.0, use self.wv.__getitem__() instead).\n"
     ]
    },
    {
     "name": "stdout",
     "output_type": "stream",
     "text": [
      "['nandurbar', 'maharashtra', 'asking', 'foabout', 'weather', 'recast']\n",
      "['dhule', 'maharashtra', 'asking', 'weather', 'forecasft']\n",
      "['dhule', 'maharashtra', 'asking', 'weather', 'forecasft']\n"
     ]
    }
   ],
   "source": [
    "district = 'mumbai'\n",
    "state = 'maharashtra'\n",
    "sent = 'asking about weather'\n",
    "\n",
    "sent_words = [district,state] + sent.split(\" \")\n",
    "\n",
    "sent_value = np.array([0.0 for k in range(50)])\n",
    "\n",
    "sent_new = []\n",
    "count = 0\n",
    "for i in sent_words:\n",
    "    if i not in stop_words:\n",
    "        try:\n",
    "            if count in [0]:\n",
    "                factor = 0.001/(0.001 + u[i]/u.N())\n",
    "            if count in [1]:\n",
    "                factor = 0.001/(0.001 + v[i]/v.N())\n",
    "            if count in [2,3,4]:\n",
    "                factor = 0.001/(0.001 + t[i]/t.N())\n",
    "            sent_value += model[i]*factor\n",
    "            count += 1\n",
    "        except:\n",
    "            continue\n",
    "            count += 1\n",
    "\n",
    "sent_value = sent_value/count\n",
    "\n",
    "all_dist = []\n",
    "for i in word2vec_value:\n",
    "    dist = scipy.spatial.distance.cosine(i,sent_value)\n",
    "    \n",
    "    all_dist.append(dist)\n",
    "\n",
    "k = 3\n",
    "ind = np.argpartition(all_dist, k)[:k]\n",
    "\n",
    "for i in ind:\n",
    "    print new_maharashtra[i]"
   ]
  },
  {
   "cell_type": "code",
   "execution_count": 31,
   "metadata": {},
   "outputs": [
    {
     "data": {
      "text/plain": [
       "4166"
      ]
     },
     "execution_count": 31,
     "metadata": {},
     "output_type": "execute_result"
    }
   ],
   "source": [
    "t.B()"
   ]
  },
  {
   "cell_type": "code",
   "execution_count": null,
   "metadata": {},
   "outputs": [],
   "source": []
  }
 ],
 "metadata": {
  "kernelspec": {
   "display_name": "Python 2",
   "language": "python",
   "name": "python2"
  },
  "language_info": {
   "codemirror_mode": {
    "name": "ipython",
    "version": 2
   },
   "file_extension": ".py",
   "mimetype": "text/x-python",
   "name": "python",
   "nbconvert_exporter": "python",
   "pygments_lexer": "ipython2",
   "version": "2.7.14"
  }
 },
 "nbformat": 4,
 "nbformat_minor": 2
}
